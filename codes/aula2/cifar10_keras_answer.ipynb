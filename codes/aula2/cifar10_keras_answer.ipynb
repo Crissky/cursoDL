{
  "nbformat": 4,
  "nbformat_minor": 0,
  "metadata": {
    "colab": {
      "name": "cifar10_keras_answer.ipynb",
      "version": "0.3.2",
      "provenance": [],
      "collapsed_sections": [],
      "include_colab_link": true
    },
    "kernelspec": {
      "name": "python3",
      "display_name": "Python 3"
    },
    "accelerator": "GPU"
  },
  "cells": [
    {
      "cell_type": "markdown",
      "metadata": {
        "id": "view-in-github",
        "colab_type": "text"
      },
      "source": [
        "<a href=\"https://colab.research.google.com/github/filiperobotic/cursoDL/blob/master/codes/aula2/cifar10_keras_answer.ipynb\" target=\"_parent\"><img src=\"https://colab.research.google.com/assets/colab-badge.svg\" alt=\"Open In Colab\"/></a>"
      ]
    },
    {
      "metadata": {
        "id": "OD-Dob_c57oe",
        "colab_type": "code",
        "outputId": "13a0f938-0083-4e40-e07a-2b212818ce84",
        "colab": {
          "base_uri": "https://localhost:8080/",
          "height": 35
        }
      },
      "cell_type": "code",
      "source": [
        "# import the necessary packages\n",
        "from sklearn.preprocessing import LabelBinarizer\n",
        "from sklearn.metrics import classification_report\n",
        "from keras.models import Sequential\n",
        "from keras.layers.core import Dense\n",
        "from keras.optimizers import SGD\n",
        "from keras.datasets import cifar10\n",
        "import matplotlib.pyplot as plt\n",
        "import numpy as np\n"
      ],
      "execution_count": 0,
      "outputs": [
        {
          "output_type": "stream",
          "text": [
            "Using TensorFlow backend.\n"
          ],
          "name": "stderr"
        }
      ]
    },
    {
      "metadata": {
        "id": "w9YPhqq56OEK",
        "colab_type": "code",
        "outputId": "e60313d3-6789-400f-efc2-bf51d9749f9e",
        "colab": {
          "base_uri": "https://localhost:8080/",
          "height": 69
        }
      },
      "cell_type": "code",
      "source": [
        "# load the training and testing data, scale it into the range [0, 1],\n",
        "# then reshape the design matrix\n",
        "print(\"[INFO] loading CIFAR-10 data...\")\n",
        "((trainX, trainY), (testX, testY)) = cifar10.load_data()\n",
        "trainX = trainX.astype(\"float\") / 255.0\n",
        "testX = testX.astype(\"float\") / 255.0\n",
        "trainX = trainX.reshape((trainX.shape[0], 3072))\n",
        "testX = testX.reshape((testX.shape[0], 3072))"
      ],
      "execution_count": 0,
      "outputs": [
        {
          "output_type": "stream",
          "text": [
            "[INFO] loading CIFAR-10 data...\n",
            "Downloading data from https://www.cs.toronto.edu/~kriz/cifar-10-python.tar.gz\n",
            "170500096/170498071 [==============================] - 40s 0us/step\n"
          ],
          "name": "stdout"
        }
      ]
    },
    {
      "metadata": {
        "id": "8mCJ6JzL6Qt6",
        "colab_type": "code",
        "colab": {}
      },
      "cell_type": "code",
      "source": [
        "# convert the labels from integers to vectors\n",
        "lb = LabelBinarizer()\n",
        "trainY = lb.fit_transform(trainY)\n",
        "testY = lb.transform(testY)\n",
        "\n",
        "# initialize the label names for the CIFAR-10 dataset\n",
        "labelNames = [\"airplane\", \"automobile\", \"bird\", \"cat\", \"deer\",\n",
        "\t\"dog\", \"frog\", \"horse\", \"ship\", \"truck\"]"
      ],
      "execution_count": 0,
      "outputs": []
    },
    {
      "metadata": {
        "id": "uQxse18B6cpN",
        "colab_type": "code",
        "outputId": "bd5c29cb-cc9f-42b5-ea0f-fd3606267514",
        "colab": {
          "base_uri": "https://localhost:8080/",
          "height": 89
        }
      },
      "cell_type": "code",
      "source": [
        "# define the 3072-1024-512-10 architecture using Keras\n",
        "model = Sequential()\n",
        "model.add(Dense(1024, input_shape=(3072,), activation=\"relu\"))\n",
        "model.add(Dense(512, activation=\"relu\"))\n",
        "model.add(Dense(10, activation=\"softmax\"))"
      ],
      "execution_count": 0,
      "outputs": [
        {
          "output_type": "stream",
          "text": [
            "WARNING:tensorflow:From /usr/local/lib/python3.6/dist-packages/tensorflow/python/framework/op_def_library.py:263: colocate_with (from tensorflow.python.framework.ops) is deprecated and will be removed in a future version.\n",
            "Instructions for updating:\n",
            "Colocations handled automatically by placer.\n"
          ],
          "name": "stdout"
        }
      ]
    },
    {
      "metadata": {
        "id": "FjcrDkIi6ebZ",
        "colab_type": "code",
        "outputId": "c9c363af-cb4b-4e84-b168-10bbb619bd74",
        "colab": {
          "base_uri": "https://localhost:8080/",
          "height": 469
        }
      },
      "cell_type": "code",
      "source": [
        "# train the model usign SGD\n",
        "print(\"[INFO] training network...\")\n",
        "sgd = SGD(0.01)\n",
        "model.compile(loss=\"categorical_crossentropy\", optimizer=sgd,\n",
        "\tmetrics=[\"accuracy\"])\n",
        "H = model.fit(trainX, trainY, validation_data=(testX, testY),\n",
        "\tepochs=10, batch_size=32)"
      ],
      "execution_count": 0,
      "outputs": [
        {
          "output_type": "stream",
          "text": [
            "[INFO] training network...\n",
            "WARNING:tensorflow:From /usr/local/lib/python3.6/dist-packages/tensorflow/python/ops/math_ops.py:3066: to_int32 (from tensorflow.python.ops.math_ops) is deprecated and will be removed in a future version.\n",
            "Instructions for updating:\n",
            "Use tf.cast instead.\n",
            "Train on 50000 samples, validate on 10000 samples\n",
            "Epoch 1/10\n",
            "50000/50000 [==============================] - 15s 300us/step - loss: 1.8422 - acc: 0.3420 - val_loss: 1.7706 - val_acc: 0.3777\n",
            "Epoch 2/10\n",
            "50000/50000 [==============================] - 14s 271us/step - loss: 1.6542 - acc: 0.4167 - val_loss: 1.5958 - val_acc: 0.4379\n",
            "Epoch 3/10\n",
            "50000/50000 [==============================] - 14s 271us/step - loss: 1.5730 - acc: 0.4442 - val_loss: 1.6060 - val_acc: 0.4262\n",
            "Epoch 4/10\n",
            "50000/50000 [==============================] - 14s 278us/step - loss: 1.5130 - acc: 0.4660 - val_loss: 1.6173 - val_acc: 0.4305\n",
            "Epoch 5/10\n",
            "50000/50000 [==============================] - 13s 270us/step - loss: 1.4665 - acc: 0.4840 - val_loss: 1.5915 - val_acc: 0.4354\n",
            "Epoch 6/10\n",
            "50000/50000 [==============================] - 14s 280us/step - loss: 1.4230 - acc: 0.4980 - val_loss: 1.4386 - val_acc: 0.4902\n",
            "Epoch 7/10\n",
            "50000/50000 [==============================] - 14s 279us/step - loss: 1.3878 - acc: 0.5104 - val_loss: 1.4613 - val_acc: 0.4785\n",
            "Epoch 8/10\n",
            "50000/50000 [==============================] - 14s 270us/step - loss: 1.3546 - acc: 0.5253 - val_loss: 1.4356 - val_acc: 0.4969\n",
            "Epoch 9/10\n",
            "50000/50000 [==============================] - 14s 278us/step - loss: 1.3248 - acc: 0.5334 - val_loss: 1.4210 - val_acc: 0.4877\n",
            "Epoch 10/10\n",
            "50000/50000 [==============================] - 14s 279us/step - loss: 1.2956 - acc: 0.5444 - val_loss: 1.4573 - val_acc: 0.4741\n"
          ],
          "name": "stdout"
        }
      ]
    },
    {
      "metadata": {
        "id": "ovBa9Ofl6gJi",
        "colab_type": "code",
        "outputId": "87e4e878-1f22-438a-eb7e-244a873f4a01",
        "colab": {
          "base_uri": "https://localhost:8080/",
          "height": 328
        }
      },
      "cell_type": "code",
      "source": [
        "# evaluate the network\n",
        "print(\"[INFO] evaluating network...\")\n",
        "predictions = model.predict(testX, batch_size=32)\n",
        "print(classification_report(testY.argmax(axis=1),\n",
        "\tpredictions.argmax(axis=1), target_names=labelNames))"
      ],
      "execution_count": 0,
      "outputs": [
        {
          "output_type": "stream",
          "text": [
            "[INFO] evaluating network...\n",
            "              precision    recall  f1-score   support\n",
            "\n",
            "    airplane       0.78      0.24      0.37      1000\n",
            "  automobile       0.65      0.58      0.61      1000\n",
            "        bird       0.37      0.43      0.40      1000\n",
            "         cat       0.39      0.27      0.32      1000\n",
            "        deer       0.58      0.15      0.24      1000\n",
            "         dog       0.50      0.31      0.39      1000\n",
            "        frog       0.51      0.61      0.56      1000\n",
            "       horse       0.36      0.79      0.49      1000\n",
            "        ship       0.61      0.66      0.63      1000\n",
            "       truck       0.45      0.68      0.54      1000\n",
            "\n",
            "   micro avg       0.47      0.47      0.47     10000\n",
            "   macro avg       0.52      0.47      0.46     10000\n",
            "weighted avg       0.52      0.47      0.46     10000\n",
            "\n"
          ],
          "name": "stdout"
        }
      ]
    },
    {
      "metadata": {
        "id": "Mm5ZTgCY6h4g",
        "colab_type": "code",
        "outputId": "e536e663-d975-4339-b3f2-664a07c8c113",
        "colab": {
          "base_uri": "https://localhost:8080/",
          "height": 397
        }
      },
      "cell_type": "code",
      "source": [
        "# plot the training loss and accuracy\n",
        "plt.style.use(\"ggplot\")\n",
        "plt.figure()\n",
        "plt.plot(np.arange(0, 10), H.history[\"loss\"], label=\"train_loss\")\n",
        "plt.plot(np.arange(0, 10), H.history[\"val_loss\"], label=\"val_loss\")\n",
        "plt.plot(np.arange(0, 10), H.history[\"acc\"], label=\"train_acc\")\n",
        "plt.plot(np.arange(0, 10), H.history[\"val_acc\"], label=\"val_acc\")\n",
        "plt.title(\"Training Loss and Accuracy\")\n",
        "plt.xlabel(\"Epoch #\")\n",
        "plt.ylabel(\"Loss/Accuracy\")\n",
        "plt.legend()\n",
        "#plt.savefig(\"output.png\")"
      ],
      "execution_count": 0,
      "outputs": [
        {
          "output_type": "execute_result",
          "data": {
            "text/plain": [
              "<matplotlib.legend.Legend at 0x7f1e09322c88>"
            ]
          },
          "metadata": {
            "tags": []
          },
          "execution_count": 8
        },
        {
          "output_type": "display_data",
          "data": {
            "image/png": "[encoded data removed]",
            "text/plain": [
              "<Figure size 576x396 with 1 Axes>"
            ]
          },
          "metadata": {
            "tags": []
          }
        }
      ]
    },
    {
      "metadata": {
        "id": "rlvFg46_7mFl",
        "colab_type": "code",
        "colab": {}
      },
      "cell_type": "code",
      "source": [
        ""
      ],
      "execution_count": 0,
      "outputs": []
    }
  ]
}