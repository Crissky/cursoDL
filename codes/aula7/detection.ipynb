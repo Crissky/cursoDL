{
  "nbformat": 4,
  "nbformat_minor": 0,
  "metadata": {
    "colab": {
      "name": "detection.ipynb",
      "version": "0.3.2",
      "provenance": [],
      "collapsed_sections": [],
      "include_colab_link": true
    },
    "kernelspec": {
      "name": "python3",
      "display_name": "Python 3"
    }
  },
  "cells": [
    {
      "cell_type": "markdown",
      "metadata": {
        "id": "view-in-github",
        "colab_type": "text"
      },
      "source": [
        "<a href=\"https://colab.research.google.com/github/filiperobotic/cursoDL/blob/master/codes/aula7/detection.ipynb\" target=\"_parent\"><img src=\"https://colab.research.google.com/assets/colab-badge.svg\" alt=\"Open In Colab\"/></a>"
      ]
    },
    {
      "metadata": {
        "id": "BJyTXKze1eoc",
        "colab_type": "code",
        "colab": {}
      },
      "cell_type": "code",
      "source": [
        "!git clone https://github.com/filiperobotic/aula7.git"
      ],
      "execution_count": 0,
      "outputs": []
    },
    {
      "metadata": {
        "id": "wAKRgfEN3GLH",
        "colab_type": "code",
        "colab": {}
      },
      "cell_type": "code",
      "source": [
        "\n",
        "# import the necessary packages\n",
        "import numpy as np\n",
        "import argparse\n",
        "import cv2\n",
        "from matplotlib import pyplot as plt\n",
        "\n",
        "\n",
        "\n",
        "arg_image = \"aula7/images/example_05.jpg\"\n",
        "arg_prototxt = \"aula7/MobileNetSSD_deploy.prototxt.txt\"\n",
        "arg_model = \"aula7/MobileNetSSD_deploy.caffemodel\"\n",
        "arg_confidence = 0.2\n",
        "\n",
        "\n",
        "# initialize the list of class labels MobileNet SSD was trained to\n",
        "# detect, then generate a set of bounding box colors for each class\n",
        "CLASSES = [\"background\", \"aeroplane\", \"bicycle\", \"bird\", \"boat\",\n",
        "\t\"bottle\", \"bus\", \"car\", \"cat\", \"chair\", \"cow\", \"diningtable\",\n",
        "\t\"dog\", \"horse\", \"motorbike\", \"person\", \"pottedplant\", \"sheep\",\n",
        "\t\"sofa\", \"train\", \"tvmonitor\"]\n",
        "COLORS = np.random.uniform(0, 255, size=(len(CLASSES), 3))\n",
        "\n",
        "# load our serialized model from disk\n",
        "print(\"[INFO] loading model...\")\n",
        "net = cv2.dnn.readNetFromCaffe(arg_prototxt, arg_model)\n",
        "\n",
        "# load the input image and construct an input blob for the image\n",
        "# by resizing to a fixed 300x300 pixels and then normalizing it\n",
        "# (note: normalization is done via the authors of the MobileNet SSD\n",
        "# implementation)\n",
        "image = cv2.imread(arg_image)\n",
        "(h, w) = image.shape[:2]\n",
        "blob = cv2.dnn.blobFromImage(cv2.resize(image, (300, 300)), 0.007843, (300, 300), 127.5)\n",
        "\n",
        "# pass the blob through the network and obtain the detections and\n",
        "# predictions\n",
        "print(\"[INFO] computing object detections...\")\n",
        "net.setInput(blob)\n",
        "detections = net.forward()\n",
        "\n",
        "# loop over the detections\n",
        "for i in np.arange(0, detections.shape[2]):\n",
        "\t# extract the confidence (i.e., probability) associated with the\n",
        "\t# prediction\n",
        "\tconfidence = detections[0, 0, i, 2]\n",
        "\n",
        "\t# filter out weak detections by ensuring the `confidence` is\n",
        "\t# greater than the minimum confidence\n",
        "\tif confidence > arg_confidence:\n",
        "\t\t# extract the index of the class label from the `detections`,\n",
        "\t\t# then compute the (x, y)-coordinates of the bounding box for\n",
        "\t\t# the object\n",
        "\t\tidx = int(detections[0, 0, i, 1])\n",
        "\t\tbox = detections[0, 0, i, 3:7] * np.array([w, h, w, h])\n",
        "\t\t(startX, startY, endX, endY) = box.astype(\"int\")\n",
        "\n",
        "\t\t# display the prediction\n",
        "\t\tlabel = \"{}: {:.2f}%\".format(CLASSES[idx], confidence * 100)\n",
        "\t\tprint(\"[INFO] {}\".format(label))\n",
        "\t\tcv2.rectangle(image, (startX, startY), (endX, endY),\n",
        "\t\t\tCOLORS[idx], 2)\n",
        "\t\ty = startY - 15 if startY - 15 > 15 else startY + 15\n",
        "\t\tcv2.putText(image, label, (startX, y),\n",
        "\t\t\tcv2.FONT_HERSHEY_SIMPLEX, 0.5, COLORS[idx], 2)\n",
        "\n",
        "\n",
        "RGB_im = cv2.cvtColor(image, cv2.COLOR_BGR2RGB)\n",
        "fig = plt.figure(figsize=(10,10))\n",
        "ax = fig.add_subplot(1,1,1, xticks=[], yticks=[])\n",
        "ax.imshow(RGB_im)"
      ],
      "execution_count": 0,
      "outputs": []
    }
  ]
}