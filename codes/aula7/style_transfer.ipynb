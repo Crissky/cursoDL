{
  "nbformat": 4,
  "nbformat_minor": 0,
  "metadata": {
    "colab": {
      "name": "style_transfer.ipynb",
      "version": "0.3.2",
      "provenance": [],
      "collapsed_sections": [],
      "include_colab_link": true
    },
    "kernelspec": {
      "name": "python3",
      "display_name": "Python 3"
    }
  },
  "cells": [
    {
      "cell_type": "markdown",
      "metadata": {
        "id": "view-in-github",
        "colab_type": "text"
      },
      "source": [
        "<a href=\"https://colab.research.google.com/github/filiperobotic/cursoDL/blob/master/codes/aula7/style_transfer.ipynb\" target=\"_parent\"><img src=\"https://colab.research.google.com/assets/colab-badge.svg\" alt=\"Open In Colab\"/></a>"
      ]
    },
    {
      "metadata": {
        "id": "OVsa_lJz9b4b",
        "colab_type": "code",
        "colab": {}
      },
      "cell_type": "code",
      "source": [
        "!git clone https://github.com/filiperobotic/aula7.git\n",
        "#!rm -rf aula7"
      ],
      "execution_count": 0,
      "outputs": []
    },
    {
      "metadata": {
        "id": "SADUB57o9gb0",
        "colab_type": "code",
        "colab": {}
      },
      "cell_type": "code",
      "source": [
        "# import the necessary packages\n",
        "#import argparse\n",
        "import imutils\n",
        "import time\n",
        "import cv2\n",
        "from matplotlib import pyplot as plt\n",
        "\n",
        "arg_model = \"aula7/neural-style-transfer/models/instance_norm/udnie.t7\"\n",
        "arg_image = \"aula7/neural-style-transfer/images/messi.jpg\"\n",
        "\n",
        "# load the neural style transfer model from disk\n",
        "print(\"[INFO] loading style transfer model...\")\n",
        "net = cv2.dnn.readNetFromTorch(arg_model)\n",
        "\n",
        "# load the input image, resize it to have a width of 600 pixels, and\n",
        "# then grab the image dimensions\n",
        "image = cv2.imread(arg_image)\n",
        "image = imutils.resize(image, width=600)\n",
        "(h, w) = image.shape[:2]\n",
        "\n",
        "# construct a blob from the image, set the input, and then perform a\n",
        "# forward pass of the network\n",
        "blob = cv2.dnn.blobFromImage(image, 1.0, (w, h),\n",
        "\t(103.939, 116.779, 123.680), swapRB=False, crop=False)\n",
        "net.setInput(blob)\n",
        "start = time.time()\n",
        "output = net.forward()\n",
        "end = time.time()\n",
        "\n",
        "# reshape the output tensor, add back in the mean subtraction, and\n",
        "# then swap the channel ordering\n",
        "output = output.reshape((3, output.shape[2], output.shape[3]))\n",
        "output[0] += 103.939\n",
        "output[1] += 116.779\n",
        "output[2] += 123.680\n",
        "output /= 255.0\n",
        "output = output.transpose(1, 2, 0)\n",
        "\n",
        "# show information on how long inference took\n",
        "print(\"[INFO] neural style transfer took {:.4f} seconds\".format(\n",
        "\tend - start))\n",
        "\n",
        "RGB_im = cv2.cvtColor(image, cv2.COLOR_BGR2RGB)\n",
        "fig = plt.figure(figsize=(10,10))\n",
        "ax = fig.add_subplot(1,2,1, xticks=[], yticks=[])\n",
        "ax.imshow(RGB_im)\n",
        "RGB_out = cv2.cvtColor(output, cv2.COLOR_BGR2RGB)\n",
        "ax = fig.add_subplot(1,2,2, xticks=[], yticks=[])\n",
        "ax.imshow(RGB_out)\n"
      ],
      "execution_count": 0,
      "outputs": []
    },
    {
      "metadata": {
        "id": "OG3CFrw7BfuX",
        "colab_type": "code",
        "colab": {}
      },
      "cell_type": "code",
      "source": [
        ""
      ],
      "execution_count": 0,
      "outputs": []
    }
  ]
}